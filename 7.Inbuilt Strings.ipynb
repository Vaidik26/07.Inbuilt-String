{
 "cells": [
  {
   "cell_type": "code",
   "execution_count": 2,
   "metadata": {},
   "outputs": [
    {
     "data": {
      "text/plain": [
       "11"
      ]
     },
     "execution_count": 2,
     "metadata": {},
     "output_type": "execute_result"
    }
   ],
   "source": [
    "# 1. What is the purpose of the len() function in Python, and how can it be used with strings?\n",
    "\n",
    "# The purpose of len function is to find out length of any object. \n",
    "\n",
    "# It is used to print number of alphabets in strings.\n",
    "\n",
    "# Example:\n",
    "\n",
    "a = \"Hello World\"\n",
    "len(a)"
   ]
  },
  {
   "cell_type": "code",
   "execution_count": 4,
   "metadata": {},
   "outputs": [
    {
     "data": {
      "text/plain": [
       "'Vaidik Yadav'"
      ]
     },
     "execution_count": 4,
     "metadata": {},
     "output_type": "execute_result"
    }
   ],
   "source": [
    "#2. How can you concatenate two or more strings in Python, and can you provide an example of string concatenation?\n",
    "\n",
    "# We can concatenate two or more strings in python using '+' operator.\n",
    "\n",
    "# Example:\n",
    "\n",
    "a = \"Vaidik \"\n",
    "b = \"Yadav\"\n",
    "\n",
    "a+b"
   ]
  },
  {
   "cell_type": "code",
   "execution_count": 7,
   "metadata": {},
   "outputs": [
    {
     "data": {
      "text/plain": [
       "'Vai'"
      ]
     },
     "execution_count": 7,
     "metadata": {},
     "output_type": "execute_result"
    }
   ],
   "source": [
    "# 3. What is string slicing in Python, and how can you extract a portion of a string using this method?\n",
    "\n",
    "# String slicing in python is used to slice or extract the portion of string.\n",
    "\n",
    "a = \"Vaidik\"\n",
    "a[0:3]\n"
   ]
  },
  {
   "cell_type": "code",
   "execution_count": 10,
   "metadata": {},
   "outputs": [
    {
     "name": "stdout",
     "output_type": "stream",
     "text": [
      "pw skills\n",
      "PW SKILLS\n"
     ]
    }
   ],
   "source": [
    "# 4. How can you change the case of a string in Python, and can you provide examples of both making a string all uppercase and all lowercase?\n",
    "\n",
    "# We can change the case of string in python using function called \"string_name.Upper\" and \"string_name.lower\"\n",
    "\n",
    "p = \"PW SKILLS\"\n",
    "\n",
    "print(p.lower())\n",
    "print(p.upper())"
   ]
  },
  {
   "cell_type": "code",
   "execution_count": 12,
   "metadata": {},
   "outputs": [
    {
     "data": {
      "text/plain": [
       "['Hardworking', ' Tall', ' Handsome', ' Dedicated']"
      ]
     },
     "execution_count": 12,
     "metadata": {},
     "output_type": "execute_result"
    }
   ],
   "source": [
    "# 5. 5. What does the split() method do in Python, and how can you split a string using a specific delimiter?\n",
    "\n",
    "# In Python, the split() method is used to split a string which is given by user\n",
    "\n",
    "Vaidik = \"Hardworking, Tall, Handsome, Dedicated\"\n",
    "Vaidik.split(',')"
   ]
  }
 ],
 "metadata": {
  "kernelspec": {
   "display_name": "Python 3",
   "language": "python",
   "name": "python3"
  },
  "language_info": {
   "codemirror_mode": {
    "name": "ipython",
    "version": 3
   },
   "file_extension": ".py",
   "mimetype": "text/x-python",
   "name": "python",
   "nbconvert_exporter": "python",
   "pygments_lexer": "ipython3",
   "version": "3.12.2"
  }
 },
 "nbformat": 4,
 "nbformat_minor": 2
}
